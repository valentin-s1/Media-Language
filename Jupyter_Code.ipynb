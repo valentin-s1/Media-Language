{
 "cells": [
  {
   "cell_type": "markdown",
   "id": "f3a9ceff",
   "metadata": {},
   "source": [
    "# In-class exercises 6\n",
    "\n",
    "## Objectives: use the text to predict the political orientation of the news articles\n",
    "The target $y$ is given by the `biais` column. \n",
    "\n",
    "You can use all remaining information in the dataset to predict the target."
   ]
  },
  {
   "cell_type": "code",
   "execution_count": null,
   "id": "753097d6",
   "metadata": {},
   "outputs": [],
   "source": [
    "import pandas as pd\n"
   ]
  },
  {
   "cell_type": "code",
   "execution_count": 20,
   "id": "de562ab2",
   "metadata": {},
   "outputs": [],
   "source": [
    "df = pd.read_csv(\"Political_Bias.csv\")"
   ]
  },
  {
   "cell_type": "code",
   "execution_count": 21,
   "id": "990ce34c",
   "metadata": {},
   "outputs": [
    {
     "data": {
      "application/vnd.microsoft.datawrangler.viewer.v0+json": {
       "columns": [
        {
         "name": "index",
         "rawType": "int64",
         "type": "integer"
        },
        {
         "name": "Title",
         "rawType": "object",
         "type": "string"
        },
        {
         "name": "Link",
         "rawType": "object",
         "type": "string"
        },
        {
         "name": "Text",
         "rawType": "object",
         "type": "string"
        },
        {
         "name": "Source",
         "rawType": "object",
         "type": "string"
        },
        {
         "name": "Bias",
         "rawType": "object",
         "type": "string"
        }
       ],
       "conversionMethod": "pd.DataFrame",
       "ref": "fbc2393f-161a-4ce9-96e0-bfa0ec621bdb",
       "rows": [
        [
         "0",
         "John Boltonâ€™s Advice for the â€˜Continuing Turmoilâ€™ of a Trump Administration",
         "https://thedispatch.com/article/john-boltons-advice-for-the-continuing-turmoil-of-a-trump-administration/",
         "With just days until his inauguration, it would not be a shock to learn that Donald Trump is walking around Mar-a-Lago singing Starshipâ€™s No. 1 hit song from 1987 (the same year he published The Art of the Deal): â€œNothingâ€™s Gonna Stop Us Now.â€ Confirmation hearings for Cabinet-level posts are moving right along, with Republican senators getting in line. The transition from the Biden administration to Trumpâ€™s has been relatively smooth. Politically, Trump has never been more popular. Itâ€™s a period of such good feelings that even (some) Democrats are playing nice with Trump. â€œEverybodyâ€™s optimistic. Everything seems possible. No limits appear,â€ says executive branch veteran John Bolton. â€œIt lasts right up until noon on the 20th, when reality strikes.â€ Up to now, the focus of most commentary and reporting has been how the second Trump administration will reshape the country and the world: the national economy, the countryâ€™s global standing, both the operation of government and everyday life in the nationâ€™s capital, the trajectory of American politics, Congress, big business, and even popular culture.  But as it has in past administrations, the world itself has the ability to stop a presidency dead in its tracks. So how should an incoming Trump official think about the incredible, and most likely incredibly frustrating, challenges to come? On Monday the work of the second Trump administration will begin in earnest, starting with the more than 100 executive orders promised by his transition. There will still be plenty of confirmations to go through, not just for Cabinet secretaries and prominent agency heads, but many of the lower-level but still Senate-confirmed positions Trump will need to fill. The process for accomplishing his legislative agenda remains a mystery to his allies in Congress. Nor do the Republican Partyâ€™s margins in both houses of Congress leave much room for error. And the looming midterm elections of 2026 will start the clock on how much real time this already-lame duck president has to get it all done before a potential shift in power in Washington. On top of all that are what Donald Rumsfeld called the known and unknown unknowns that can throw a presidency off its plan: natural disasters, terrorist attacks, international incidents, economic calamities. Trump had direct experience with this in the form of the COVID outbreak in 2020. A development in Ukraine or a provocation from China could complicate whatever domestic plans the Trump administration has. So, too, could injunctions and lawsuits in response to his executive actions.  So while Trump is now an old hand at being president, the real work of governing falls to the thousands of appointees, advisers, and staff of the executive branch. That, says Bolton, is where the real actionâ€”and real obstaclesâ€”will appear. â€œWhen it comes to the running of departments and agencies, day by day, a lot depends on the deputy secretary, the undersecretaries, the assistant secretaries, and those we still donâ€™t know a bunch about. So in that sense, the transition continues, except it continues under the gun, [when] youâ€™re making policy, making decisions that every day that have real world consequences,â€ Bolton says. And he would know. The 76-year-old attorney has served in every Republican administration since Ronald Reaganâ€™s, including multiple positions in both the Justice and State departments. From perches that run the gamut from mid-level agency administrator to Trumpâ€™s national security adviser from 2018 to 2019, Bolton has seen administrations struggle with the responsibilities of governance from multiple vantage points. Itâ€™s hard to live up to the promises of a campaign, no matter how unified your party is or how poorly your predecessor performed. And beyond the base level of difficulty in running a massive government bureaucracy, implementing policy, and spending political capital effectively, carrying out the business of a Trump administration is uniquely demanding. It requires officials and staff to be prepared for the whiplash of contradictory directives or sudden decisionmaking from a capricious chief executive, who, as Bolton recently wrote for the New York Times, expects loyalty to himself above all. Boltonâ€™s advice to those coming in to work for the administration? Be prepared for all of that. â€œPeople who have been in the government before have seen how presidents have operated who are disciplined,â€ Bolton says. â€œGeorge H.W. Bush being perhaps the most disciplined, but Reagan had a certain discipline. George W. Bush had a certain discipline. Trump doesnâ€™t have a discipline, and that is hard just in the regular course of trying to decide policy.â€ Like many who worked for Trump during his first presidential tenure, Bolton has been vocal about how tumultuous the work can be. But for those who will be navigating what he calls the â€œcontinuing turmoilâ€ of advising Trump, Bolton has some straightforward recommendations. â€œIf youâ€™re a senior official, White House staff, Cabinet officer, whatever it might be, your job is to present to the president the information that he should have to make a decision. Present the options, get a decision, and then carry it out,â€ he says. â€œAnd you canâ€™t be held responsible if he doesnâ€™t care about the information youâ€™re providing or doesnâ€™t want to look at options, thatâ€™s still what you should do, because thatâ€™s what serves the country.â€ Sometimes the best policy could be keeping your head down, particularly if your corner of the government doesnâ€™t often grab Trumpâ€™s eye. â€œIn many departments and agencies, you know, if, once they get over there and begin to do the things they think that almost any Republican administration would do if Trump doesnâ€™t pay any attention to them, that could well be a blessing, because they could get a lot more done that way,â€ Bolton says. And knowing when to call it quits, too, is just as important. â€œWhen the time comes that your principles are being violated or you just donâ€™t think heâ€™s paying any attention to you, thatâ€™s the time to get out,â€ Bolton says. â€œAnd you shouldnâ€™t regret that, because you know this job is temporary going in, and as long as you know it could end tomorrow, you sleep a lot better at night and you perform better on the job.â€",
         "TheDispatch",
         "lean right"
        ],
        [
         "1",
         "Why Shrubland Makes Southern Californiaâ€™s Wildfires Inevitable",
         "https://thedispatch.com/newsletter/techne/why-shrubland-makes-southern-californias-wildfires-inevitable/",
         "Welcome back to Techne! In Star Trek, writers got around the problem of language translation by inventing the universal translator. Researchers at tech giant Meta seem to be inching toward this tech. A recent paper in Nature describes how they created a machine-learning system that almost instantaneously translates speech in 101 languages into words spoken by a voice synthesizer in any of 36 target languages. Los Angeles continues to burn.  As of this writing, the Palisades Fire is spread over 23,713 acres and is 22 percent contained. This means that 22 percent of the fireâ€™s perimeter has been controlled by firefighters through containment lines. The Eaton Fire currently stands at 14,117 acres burned at 55 percent containment. Will Rogers State Park is gone. The homes of celebrities Paris Hilton, Mandy Moore, Billy Crystal, and many others are gone. More than 12,000 homes, businesses, and schools have burned, and 25 people have died. AccuWeather has estimated the cost to rebuild at between $250 billion and $275 billion, and it is sure to rise. Online commenters were quick to blame the byzantine regulatory systems in California for the magnitude of the disaster. While this is often a good heuristic, since Californiaâ€™s bad policies affect so many aspects of life there, the conflagration seems to have been a natural disaster, not a pure policy disaster.  What many may not know about the fires that occur near Los Angeles is that itâ€™s located in the middle of a chaparral shrubland, a type of ecosystem that grows up around rocky Mediterranean-type regions. Unlike the forests or the prairie, fires in the chaparral are infrequent and intensely hot. While the Native Americans in California deliberately set fires to shrubland, they were not trying to maintain the chaparral but to transform it into grasslands for hunting. Southern California could transform itself into grassland, which would have some advantages in fire management, but it would come with the destruction of the chaparral.   While understanding the ecosystem is crucial for long-term planning, the immediate focus is on recovery and rebuilding. Gov. Gavin Newsomâ€™s first major action was to suspend the California Environmental Quality Act (CEQA) and the California Coastal Actâ€™s permitting system. As he explained on X, these suspensions â€œwill allow victims of the SoCal fires to not get caught up in bureaucratic red tape and quickly rebuild their homes.â€  I am glad these suspensions are becoming the norm during natural disasters. Not only do they  fast-track rebuilding, but they also hint at the uncomfortable truth of government: Our normal rules actively prevent us from solving urgent problems. But if these rules can be safely suspended during our most challenging momentsâ€”when careful oversight should matter mostâ€”then itâ€™s time to reevaluate their necessity during calmer times as well. Los Angeles is dominated by chaparral, a type of scrub that occurs in Mediterranean climates where there is dense, rocky soil. And chaparral is dominated by pyrophytes, the name botanists give to plants that need fireâ€”and smoke, as it has been recently foundâ€”to germinate seeds.  Massive, swift, but infrequent conflagrations are common wherever chaparral occurs, which includes parts of California, Oregon, Baja California, Chile, South Africa, and Australia. Chaparral grows in a way that creates an unbroken layer of fuel from the ground all the way up through the vegetation, making intense fires unavoidable. These are called crown fires because they burn through the tops of the plants. This differs from most forest fires, which primarily burn near the ground because of the separation between the forest floor and the tree canopy.  The western part of Los Angeles is uniquely vulnerable to disaster. As the urban theorist Mike Davis wrote in â€œThe Case for Letting Malibu Burn,â€ this is due to â€œthe uncanny alignment of its coastal canyons with the annual â€˜fire windsâ€™ from the north: the notorious Santa Anas.â€ The shape of the â€œSan Fernando Valley acts as a giant bellows, sometimes fanning the Santa Anas to hurricane velocity as they roar seaward through the narrow canyons and rugged defiles of the Santa Monica Mountains. Add a spark to the dense, dry vegetation on such an occasion and the hillsides will explode in uncontrollable wildfire.â€ Infrequent, uncontrollable wildfire is now understood as a key part of the life cycle of chaparral. As Richard W. Halsey of the California Chaparral Institute, and Alexandra D. Syphard of the  Conservation Biology Institute explained in â€œHigh-Severity Fire in Chaparral: Cognitive Dissonance in the Shrublands,â€ Although counterintuitive, chaparral plant communities are much more resilient to infrequent, high-intensity fires than they are to more frequent, lower-intensity fires (Keeley et al., 2008). If chaparral does not have sufficient time to replenish the soil seed bank, accumulate the biomass necessary to produce fires hot enough to successfully germinate fire-cued seeds, or allow resprouting species time to restore starch supplies in underground lignotubers, a cascading series of events begins that can significantly change or eliminate the plant community. If the fire return interval is less than 10â€”20 years, biodiversity is reduced and nonnative weeds and grasses typically invade, ultimately type-converting native shrubland to nonnative grassland (Brooks et al., 2004). So while it is true that Native Americans in Southern California were actively setting fires long before Europeans arrived, itâ€™s likely that they were doing it to eliminate shrubland and help grasses grow so that grassland animals could be hunted on that land. That is to say, Native Californians werenâ€™t maintaining a healthy chaparral. Fuel build-up is invariably blamed for the occurrence of large chaparral wildfires. One commenter on the Marginal Revolution blog, for example, relayed what he was seeing on local news broadcasts a week ago,  A man who had lost his house made the point that it was his neighbor just below him that created the conditions for both houses and others to burn: the neighbor allowed brush around the neighborâ€™s house to grow thick and high, creating a fire bomb once the embers hit the brush. The brush didnâ€™t need a controlled burn, it needed a weed whacker or other device to keep it cut. But researchers are now balking at that idea. Contrary to popular belief, fire suppression like preventing or fighting fires hasnâ€™t disrupted the natural fire patterns in these areas. In fact, fire suppression has actually been helpful because itâ€™s protected the chaparral from burning too frequently, which would be harmful to the ecosystem, which prefers a cycle of 30 years or more. Without fire suppression efforts, human-caused fires would have resulted in the vegetation burning far more often than it did historically. Because fire suppression has helped maintain a more natural fire pattern in the long term, the chaparral was set up to go up in a blaze when the conditions were right. Abnormally strong rains in 2023 drove plant growth, which then became a tinderbox this year with a lack of rain. Unusually strong winds gave it the air to quickly expand. Mondayâ€™s The Morning Dispatch did an excellent job of explaining how all of this came together. While conventional wisdom suggests we need more frequent, controlled burns to prevent disasters, the science of chaparral tells a different story. These ecosystems donâ€™t just tolerate massive conflagrations, they require them for their very survival. The devastation we witnessed wasnâ€™t an aberration or a result of poor fire management. It was the chaparral operating exactly as nature intended, on a timeline measured not in years, but in decades. Understanding this reality is essential for anyone choosing to live in these beautiful but periodically explosive landscapes. All of this makes controlled burns ill-suited for Southern Californiaâ€™s chaparral. But that isnâ€™t to say that controlled burns arenâ€™t needed elsewhere in other ecosystems in California. And controlled burns are stymied by delays. Like any other government action, controlled burns are subjected to the National Environmental Policy Act (NEPA) and CEQA, Californiaâ€™s version of the law.  Environmental groups arenâ€™t fans of controlled burns or thinning efforts and have taken both the state and federal governments to court over them. Activists delayed a 9,000-acre forest thinning project in California for 10 years, citing potential threats to spotted owl habitat. However, the unthinned forest ultimately burned in a wildfire, destroying the very owl habitat they had sought to protect. The Sacramento Bee reported that one womanâ€™s lawsuit over another California forest-thinning project forced the government to process 19,193 pages of paperwork. And to top it off, in 2007, the Sierra Club successfully sued the Forest Service to prevent it from exempting small, controlled burns. In California, it takes months to get approval for a controlled burn, while in Florida it takes mere minutes.  Still, as Kevin Drum wrote in â€œWhy donâ€™t we do more prescribed burning? An explainer.â€ regulations are part of the problem, but they arenâ€™t the only thing stopping controlled burns: The biggest impediments are public opposition, rising insurance costs, resource constraints, and the risk-averse views of forest managers, many of whom are still wary of prescribed burns. This is partly for technical reasons and partly out of fear. Only one out of a thousand prescribed burns gets out of control, but thatâ€™s enough. If officials conduct a prescribed burn that gets out of control, they face serious consequences and liability. However, when devastating wildfires destroy communities and landscapes due to long-term neglect of forest management, no one is held accountable for these preventable disasters. The cumulative result is that fewer acres are burned than what experts would want. Insurers will face pressure as people inevitably rebuild, and something will break. Californiaâ€™s insurance system requires a public hearing and an affirmative approval by elected insurance commissioners to increase rates. But Proposition 103, which passed in 1988 to reform Californiaâ€™s insurance regulations, is unique in that it allows nonprofit organizations to collect fees when they challenge proposed insurance rate hikes. Californiaâ€™s system is generally viewed as unmatched in terms of the extent to which consumers and advocacy groups can formally intervene in insurance rate filings. As a result, insurance companies have stopped issuing new policies that cover fire. This, in turn, has put pressure on the stateâ€™s insurer of last resort, FAIR. But even FAIR is buckling under all the payouts. For years, the Pacific Palisades has been cited as one of the largest areas of exposure for FAIR at nearly $6 billion. As it last reported, however, FAIR had about $700 million in cash and even though it caps payments at $3 million, it likely will need a bailout. Still, I think it is telling that Newsomâ€™s immediate policy response was an executive order that suspended CEQA review and California Coastal Act permitting for properties being reconstructed. His executive order didnâ€™t just streamline reconstruction. It laid bare a paradox at the heart of the stateâ€™s regulatory framework. By suspending both CEQA review and Coastal Act permitting for rebuilding, while directing agencies to identify other regulations that could be safely relaxed, Newsom tacitly acknowledged what many have long suspected. If these rules can be safely suspended during our most challenging moments when careful oversight should matter most, perhaps itâ€™s time to reevaluate their necessity during calmer times as well. My former colleague Tahra Jirari made a similar point recently, writing that, â€œRather than temporarily waiving them just for rebuilding, we should seize this moment to create a permanently more functional system.â€ As a Los Angeleno, sheâ€™s been in the middle of this disaster, and as an economist, sheâ€™s been thinking about how to rebuild better. As she told me, even with the suspension of CEQA and California Coastal Commission rules, â€œcurrent policies are quite restrictive and will make it difficult to rebuild. All of this has made us more vulnerable than we should be because we need to build densely away from fire-prone zones.â€  Many L.A. residents love being near nature and the chaparral, but they donâ€™t understand the risk. Every so often, the region will burn in a hot blaze. This isnâ€™t a failure of policy or prevention. Itâ€™s the fundamental nature of this ecosystem. Living in the chaparral means accepting its cycles: long periods of beautiful, rugged wilderness punctuated by devastating fires that canâ€™t be tamed. The question isnâ€™t how to prevent these fires entirely, but how to build and live with the knowledge that they will inevitably return. Until next week, ðŸš€ Will",
         "TheDispatch",
         "lean right"
        ],
        [
         "2",
         "Los Angelesâ€™ Destruction Was Fueled by Bad Policyâ€”and Bad Incentives",
         "https://thedispatch.com/newsletter/capitolism/los-angeles-destruction-was-fueled-by-bad-policy-and-bad-incentives/",
         "As fire still rages in the Los Angeles area, Iâ€™ve been torn about whether to write about it. Beyond the very real tragedies and my general rule against public dunking, a lot of whatâ€™s going on out there has nothing to do with policy. As our friends at The Morning Dispatch explained, for example, national experts and folks on the ground seem to agree that the unfortunate and freakish confluence of several meteorological phenomenaâ€”especially the hurricane-force winds and recent lack of rainâ€”made much of the damage in and around L.A. unavoidable regardless of the policies in place or the people in charge. And much of the knee-jerk, partisan hysteria surrounding the fires has proven to be premature, half-baked, or just plain wrongâ€”not to mention distasteful. On the other hand, there do appear to be several policies that, while they didnâ€™t cause the fires, probably made things in L.A. today worse than theyâ€™d otherwise beâ€”perhaps by a significant margin. They fit squarely within the stuff we talk about all the time here at Capitolism and provide lessons about not only the L.A. fires but also how (ostensibly) good policy intentions can generate really bad outcomes, thanks in large part to some equally bad incentives for all the people involved. The place to start is Californiaâ€™s onerous regulation of homeowners insurance, which has probably encouraged many Angelenos to live in more fire-prone areas and has kept many of them underinsured or without insurance entirely. As economist Brian Albrecht detailed last week, citing a deep dive paper from his colleagues at the International Center for Law and Economics (ICLE), Californiaâ€™s Proposition 103 forces private insurers to price their products not just below hypothetical market rates but well below their costâ€”creating â€œthe biggest gap between rates and risk in the nation.â€ Albrecht adds that the system is also highly inflexible and insanely slow: Californiaâ€™s speed of rate approvals ranked second-to-last among the 50 states (and D.C.) over the last five years, with an average of 236 days for homeowners insurance. And itâ€™s been getting worse:",
         "TheDispatch",
         "lean right"
        ],
        [
         "3",
         "Acquiring Greenland Is a Good Idea. Threatening Force to Do So Is Not.",
         "https://thedispatch.com/article/acquiring-greenland-is-a-good-idea-threatening-force-to-do-so-is-not/",
         "Whether it was Will Rogers or Tony Soprano, the old suggestion to â€œbuy land, Godâ€™s not making any more of itâ€ is good real estate advice, but itâ€™s hardly an iron law. First of all, God does make more land from time to time. And so do humans. This raises a second famous piece of advice, also of unclear authorship. When it comes to real estate only three things matter: location, location, and location. And that brings us to Greenland. Donald Trump wants to acquire it. Nay, he says we need to acquire it. The last time he was president, he floated the idea and was roundly mocked for it. But not by me, and I am hardly averse to mocking Trump when the moment calls for it. For myriad reasons, it would be in our interest for the United States to annex, lease, absorb, or otherwise acquire the giant island. The most important of these reasons is, of course, location. Thatâ€™s why Iâ€™ve long thought acquiring Greenlandâ€”peacefully!â€”was a good idea. (Indeed, last year, I despaired of the â€œGreenland effectâ€â€”the phenomenon whereby Trumpâ€™s embrace of a good idea makes it less popular.). But my opinion doesnâ€™t count for much. James Stavridis, the former supreme allied commander of NATO, and hardly a MAGA toady, agrees. He writes that the Mexico-sized island â€œis a vital element of the Greenland-Iceland-UK â€˜gapâ€™ that guards the northern approaches to the Atlantic Ocean from Russian naval forces.â€ Itâ€™s also believed Greenland has huge deposits of crucial rare-earth minerals, essential to all manner of high-tech industries, industries China is trying to control or dominate, in part by establishing a near monopoly on such resources. Long before anyone appreciated the importance of this stuff, the Truman administration recognized the value of Greenland and tried to persuade the Danes â€”who administer the quasi-independent nationâ€”to part with it. The Danes politely said no. But the issue was mostly resolved a few years later when Denmark became a founding member of the NATO alliance. They agreed to work with us on using it to bolster Western defenses. Trump claims thatâ€™s not good enough. In a recent press conference, Trump refused to rule out the use of force to take Greenland (and the Panama Canal). â€œFor purposes of National Security and Freedom throughout the World, the United States of America feels that the ownership and control of Greenland is an absolute necessity,â€ Trump insists. The best defenseâ€”really the only defenseâ€”of Trumpâ€™s rhetoric is that itâ€™s a negotiating tactic: Start with an outlandish ask, and then find a compromise that would have been impossible without it. Again, the problem with this classic example of turd-polishing Trumpâ€™s rhetoricâ€”â€œtake him seriously, not literallyâ€ as they sayâ€”is that Denmark and Greenland are already generously cooperating with the U.S. on national security issues. We literally have a vital military installation in Greenland already. So, what could that compromise be? Some special leasing deal for mining? Okay, maybe. But, surely, thereâ€™s a better way to pursue that with a longtime ally than threatening military force? Acquiring Greenland is a serious idea, but pursuing it in an unserious way is worse than not pursuing it at all. If Trump went full Putin and invaded Greenlandâ€”or even seriously threatened to by deploying ships to intimidate Denmarkâ€”it would likely spell the end of NATO. The supposed rationale for controlling Greenland is to deter Russia and protect the â€œfreedomâ€ of the world. But Putin would see the implosion of NATO as a small price for the transformation of Greenland into an arctic Puerto Rico. (By the way, Trump floated the idea of trading Puerto Rico for Greenland.)  Even more annoying: Trump and his sycophants have spent the better part of the last decade insisting that the GOP was kidnapped by â€œneoconâ€ warmongers and imperialists hell-bent on â€œprovokingâ€ â€œforeign warsâ€ for abstract goals like â€œfreedom.â€ Say what you will about the calumnies and blood libel against â€œneocons,â€ none of them floated the idea of provoking a foreign war with democratic allies. But when Trump threatens exactly that, well, thatâ€™s just so cool apparently. The people who insist that Trumpian nationalism is a Very Serious Idea invariably find themselves having to bend their Very Serious Arguments to the fact that Trump doesnâ€™t care about arguments and ideas. Heâ€™s just a real estate guy who likes putting his name on stuff.",
         "TheDispatch",
         "lean right"
        ],
        [
         "4",
         "Assessing Trumpâ€™s Expansionist Designs",
         "https://thedispatch.com/newsletter/morning/assessing-trumps-expansionist-designs/",
         "Happy Friday! If anyone was wondering, Belgiumâ€™s food agency has officially warned against eating your Christmas tree. But donâ€™t change your dinner plans just yetâ€”Sweden says itâ€™s fine.  Weâ€™ll let our brave readers tell us which country is right.  Less than two weeks until President-elect Donald Trumpâ€™s inauguration, journalists and commentators got their first fully fledged goose chase of the new administration during a press conference at Mar-a-Lago on Tuesday. ",
         "TheDispatch",
         "lean right"
        ]
       ],
       "shape": {
        "columns": 5,
        "rows": 5
       }
      },
      "text/html": [
       "<div>\n",
       "<style scoped>\n",
       "    .dataframe tbody tr th:only-of-type {\n",
       "        vertical-align: middle;\n",
       "    }\n",
       "\n",
       "    .dataframe tbody tr th {\n",
       "        vertical-align: top;\n",
       "    }\n",
       "\n",
       "    .dataframe thead th {\n",
       "        text-align: right;\n",
       "    }\n",
       "</style>\n",
       "<table border=\"1\" class=\"dataframe\">\n",
       "  <thead>\n",
       "    <tr style=\"text-align: right;\">\n",
       "      <th></th>\n",
       "      <th>Title</th>\n",
       "      <th>Link</th>\n",
       "      <th>Text</th>\n",
       "      <th>Source</th>\n",
       "      <th>Bias</th>\n",
       "    </tr>\n",
       "  </thead>\n",
       "  <tbody>\n",
       "    <tr>\n",
       "      <th>0</th>\n",
       "      <td>John Boltonâ€™s Advice for the â€˜Continuing T...</td>\n",
       "      <td>https://thedispatch.com/article/john-boltons-a...</td>\n",
       "      <td>With just days until his inauguration, it woul...</td>\n",
       "      <td>TheDispatch</td>\n",
       "      <td>lean right</td>\n",
       "    </tr>\n",
       "    <tr>\n",
       "      <th>1</th>\n",
       "      <td>Why Shrubland Makes Southern Californiaâ€™s Wi...</td>\n",
       "      <td>https://thedispatch.com/newsletter/techne/why-...</td>\n",
       "      <td>Welcome back to Techne! In Star Trek, writers ...</td>\n",
       "      <td>TheDispatch</td>\n",
       "      <td>lean right</td>\n",
       "    </tr>\n",
       "    <tr>\n",
       "      <th>2</th>\n",
       "      <td>Los Angelesâ€™ Destruction Was Fueled by Bad P...</td>\n",
       "      <td>https://thedispatch.com/newsletter/capitolism/...</td>\n",
       "      <td>As fire still rages in the Los Angeles area, I...</td>\n",
       "      <td>TheDispatch</td>\n",
       "      <td>lean right</td>\n",
       "    </tr>\n",
       "    <tr>\n",
       "      <th>3</th>\n",
       "      <td>Acquiring Greenland Is a Good Idea. Threatenin...</td>\n",
       "      <td>https://thedispatch.com/article/acquiring-gree...</td>\n",
       "      <td>Whether it was Will Rogers or Tony Soprano, th...</td>\n",
       "      <td>TheDispatch</td>\n",
       "      <td>lean right</td>\n",
       "    </tr>\n",
       "    <tr>\n",
       "      <th>4</th>\n",
       "      <td>Assessing Trumpâ€™s Expansionist Designs</td>\n",
       "      <td>https://thedispatch.com/newsletter/morning/ass...</td>\n",
       "      <td>Happy Friday! If anyone was wondering, Belgium...</td>\n",
       "      <td>TheDispatch</td>\n",
       "      <td>lean right</td>\n",
       "    </tr>\n",
       "  </tbody>\n",
       "</table>\n",
       "</div>"
      ],
      "text/plain": [
       "                                               Title  \\\n",
       "0  John Boltonâ€™s Advice for the â€˜Continuing T...   \n",
       "1  Why Shrubland Makes Southern Californiaâ€™s Wi...   \n",
       "2  Los Angelesâ€™ Destruction Was Fueled by Bad P...   \n",
       "3  Acquiring Greenland Is a Good Idea. Threatenin...   \n",
       "4           Assessing Trumpâ€™s Expansionist Designs   \n",
       "\n",
       "                                                Link  \\\n",
       "0  https://thedispatch.com/article/john-boltons-a...   \n",
       "1  https://thedispatch.com/newsletter/techne/why-...   \n",
       "2  https://thedispatch.com/newsletter/capitolism/...   \n",
       "3  https://thedispatch.com/article/acquiring-gree...   \n",
       "4  https://thedispatch.com/newsletter/morning/ass...   \n",
       "\n",
       "                                                Text       Source        Bias  \n",
       "0  With just days until his inauguration, it woul...  TheDispatch  lean right  \n",
       "1  Welcome back to Techne! In Star Trek, writers ...  TheDispatch  lean right  \n",
       "2  As fire still rages in the Los Angeles area, I...  TheDispatch  lean right  \n",
       "3  Whether it was Will Rogers or Tony Soprano, th...  TheDispatch  lean right  \n",
       "4  Happy Friday! If anyone was wondering, Belgium...  TheDispatch  lean right  "
      ]
     },
     "execution_count": 21,
     "metadata": {},
     "output_type": "execute_result"
    }
   ],
   "source": [
    "df.head()"
   ]
  },
  {
   "cell_type": "code",
   "execution_count": 29,
   "id": "ff0d6488",
   "metadata": {},
   "outputs": [],
   "source": [
    "def fix_common_misencoding(text):\n",
    "    replacements = {\n",
    "        \"â€™\": \"’\",  # Fix curly apostrophe\n",
    "        \"â€˜\": \"‘\",  # Fix left curly quote\n",
    "        \"â€”\": \"—\",  # Fix em dash (if present)\n",
    "        \"â€œ\": \"“\",  # Fix left double quote (if present)\n",
    "        \"â€\": \"”\",   # Fix right double quote (if present)\n",
    "    }\n",
    "    for wrong, correct in replacements.items():\n",
    "        text = text.replace(wrong, correct)\n",
    "    return text"
   ]
  },
  {
   "cell_type": "code",
   "execution_count": 31,
   "id": "5f15613b",
   "metadata": {},
   "outputs": [],
   "source": [
    "df['Title'] = df['Title'].apply(fix_common_misencoding)"
   ]
  },
  {
   "cell_type": "code",
   "execution_count": 33,
   "id": "ffd8b8f1",
   "metadata": {},
   "outputs": [
    {
     "data": {
      "application/vnd.microsoft.datawrangler.viewer.v0+json": {
       "columns": [
        {
         "name": "index",
         "rawType": "int64",
         "type": "integer"
        },
        {
         "name": "Title",
         "rawType": "object",
         "type": "string"
        },
        {
         "name": "Link",
         "rawType": "object",
         "type": "string"
        },
        {
         "name": "Text",
         "rawType": "object",
         "type": "string"
        },
        {
         "name": "Source",
         "rawType": "object",
         "type": "string"
        },
        {
         "name": "Bias",
         "rawType": "object",
         "type": "string"
        }
       ],
       "conversionMethod": "pd.DataFrame",
       "ref": "7f916b5b-4fb1-4df1-9ef0-b374a91b4217",
       "rows": [
        [
         "0",
         "John Bolton’s Advice for the ‘Continuing Turmoil’ of a Trump Administration",
         "https://thedispatch.com/article/john-boltons-advice-for-the-continuing-turmoil-of-a-trump-administration/",
         "With just days until his inauguration, it would not be a shock to learn that Donald Trump is walking around Mar-a-Lago singing Starshipâ€™s No. 1 hit song from 1987 (the same year he published The Art of the Deal): â€œNothingâ€™s Gonna Stop Us Now.â€ Confirmation hearings for Cabinet-level posts are moving right along, with Republican senators getting in line. The transition from the Biden administration to Trumpâ€™s has been relatively smooth. Politically, Trump has never been more popular. Itâ€™s a period of such good feelings that even (some) Democrats are playing nice with Trump. â€œEverybodyâ€™s optimistic. Everything seems possible. No limits appear,â€ says executive branch veteran John Bolton. â€œIt lasts right up until noon on the 20th, when reality strikes.â€ Up to now, the focus of most commentary and reporting has been how the second Trump administration will reshape the country and the world: the national economy, the countryâ€™s global standing, both the operation of government and everyday life in the nationâ€™s capital, the trajectory of American politics, Congress, big business, and even popular culture.  But as it has in past administrations, the world itself has the ability to stop a presidency dead in its tracks. So how should an incoming Trump official think about the incredible, and most likely incredibly frustrating, challenges to come? On Monday the work of the second Trump administration will begin in earnest, starting with the more than 100 executive orders promised by his transition. There will still be plenty of confirmations to go through, not just for Cabinet secretaries and prominent agency heads, but many of the lower-level but still Senate-confirmed positions Trump will need to fill. The process for accomplishing his legislative agenda remains a mystery to his allies in Congress. Nor do the Republican Partyâ€™s margins in both houses of Congress leave much room for error. And the looming midterm elections of 2026 will start the clock on how much real time this already-lame duck president has to get it all done before a potential shift in power in Washington. On top of all that are what Donald Rumsfeld called the known and unknown unknowns that can throw a presidency off its plan: natural disasters, terrorist attacks, international incidents, economic calamities. Trump had direct experience with this in the form of the COVID outbreak in 2020. A development in Ukraine or a provocation from China could complicate whatever domestic plans the Trump administration has. So, too, could injunctions and lawsuits in response to his executive actions.  So while Trump is now an old hand at being president, the real work of governing falls to the thousands of appointees, advisers, and staff of the executive branch. That, says Bolton, is where the real actionâ€”and real obstaclesâ€”will appear. â€œWhen it comes to the running of departments and agencies, day by day, a lot depends on the deputy secretary, the undersecretaries, the assistant secretaries, and those we still donâ€™t know a bunch about. So in that sense, the transition continues, except it continues under the gun, [when] youâ€™re making policy, making decisions that every day that have real world consequences,â€ Bolton says. And he would know. The 76-year-old attorney has served in every Republican administration since Ronald Reaganâ€™s, including multiple positions in both the Justice and State departments. From perches that run the gamut from mid-level agency administrator to Trumpâ€™s national security adviser from 2018 to 2019, Bolton has seen administrations struggle with the responsibilities of governance from multiple vantage points. Itâ€™s hard to live up to the promises of a campaign, no matter how unified your party is or how poorly your predecessor performed. And beyond the base level of difficulty in running a massive government bureaucracy, implementing policy, and spending political capital effectively, carrying out the business of a Trump administration is uniquely demanding. It requires officials and staff to be prepared for the whiplash of contradictory directives or sudden decisionmaking from a capricious chief executive, who, as Bolton recently wrote for the New York Times, expects loyalty to himself above all. Boltonâ€™s advice to those coming in to work for the administration? Be prepared for all of that. â€œPeople who have been in the government before have seen how presidents have operated who are disciplined,â€ Bolton says. â€œGeorge H.W. Bush being perhaps the most disciplined, but Reagan had a certain discipline. George W. Bush had a certain discipline. Trump doesnâ€™t have a discipline, and that is hard just in the regular course of trying to decide policy.â€ Like many who worked for Trump during his first presidential tenure, Bolton has been vocal about how tumultuous the work can be. But for those who will be navigating what he calls the â€œcontinuing turmoilâ€ of advising Trump, Bolton has some straightforward recommendations. â€œIf youâ€™re a senior official, White House staff, Cabinet officer, whatever it might be, your job is to present to the president the information that he should have to make a decision. Present the options, get a decision, and then carry it out,â€ he says. â€œAnd you canâ€™t be held responsible if he doesnâ€™t care about the information youâ€™re providing or doesnâ€™t want to look at options, thatâ€™s still what you should do, because thatâ€™s what serves the country.â€ Sometimes the best policy could be keeping your head down, particularly if your corner of the government doesnâ€™t often grab Trumpâ€™s eye. â€œIn many departments and agencies, you know, if, once they get over there and begin to do the things they think that almost any Republican administration would do if Trump doesnâ€™t pay any attention to them, that could well be a blessing, because they could get a lot more done that way,â€ Bolton says. And knowing when to call it quits, too, is just as important. â€œWhen the time comes that your principles are being violated or you just donâ€™t think heâ€™s paying any attention to you, thatâ€™s the time to get out,â€ Bolton says. â€œAnd you shouldnâ€™t regret that, because you know this job is temporary going in, and as long as you know it could end tomorrow, you sleep a lot better at night and you perform better on the job.â€",
         "TheDispatch",
         "lean right"
        ],
        [
         "1",
         "Why Shrubland Makes Southern California’s Wildfires Inevitable",
         "https://thedispatch.com/newsletter/techne/why-shrubland-makes-southern-californias-wildfires-inevitable/",
         "Welcome back to Techne! In Star Trek, writers got around the problem of language translation by inventing the universal translator. Researchers at tech giant Meta seem to be inching toward this tech. A recent paper in Nature describes how they created a machine-learning system that almost instantaneously translates speech in 101 languages into words spoken by a voice synthesizer in any of 36 target languages. Los Angeles continues to burn.  As of this writing, the Palisades Fire is spread over 23,713 acres and is 22 percent contained. This means that 22 percent of the fireâ€™s perimeter has been controlled by firefighters through containment lines. The Eaton Fire currently stands at 14,117 acres burned at 55 percent containment. Will Rogers State Park is gone. The homes of celebrities Paris Hilton, Mandy Moore, Billy Crystal, and many others are gone. More than 12,000 homes, businesses, and schools have burned, and 25 people have died. AccuWeather has estimated the cost to rebuild at between $250 billion and $275 billion, and it is sure to rise. Online commenters were quick to blame the byzantine regulatory systems in California for the magnitude of the disaster. While this is often a good heuristic, since Californiaâ€™s bad policies affect so many aspects of life there, the conflagration seems to have been a natural disaster, not a pure policy disaster.  What many may not know about the fires that occur near Los Angeles is that itâ€™s located in the middle of a chaparral shrubland, a type of ecosystem that grows up around rocky Mediterranean-type regions. Unlike the forests or the prairie, fires in the chaparral are infrequent and intensely hot. While the Native Americans in California deliberately set fires to shrubland, they were not trying to maintain the chaparral but to transform it into grasslands for hunting. Southern California could transform itself into grassland, which would have some advantages in fire management, but it would come with the destruction of the chaparral.   While understanding the ecosystem is crucial for long-term planning, the immediate focus is on recovery and rebuilding. Gov. Gavin Newsomâ€™s first major action was to suspend the California Environmental Quality Act (CEQA) and the California Coastal Actâ€™s permitting system. As he explained on X, these suspensions â€œwill allow victims of the SoCal fires to not get caught up in bureaucratic red tape and quickly rebuild their homes.â€  I am glad these suspensions are becoming the norm during natural disasters. Not only do they  fast-track rebuilding, but they also hint at the uncomfortable truth of government: Our normal rules actively prevent us from solving urgent problems. But if these rules can be safely suspended during our most challenging momentsâ€”when careful oversight should matter mostâ€”then itâ€™s time to reevaluate their necessity during calmer times as well. Los Angeles is dominated by chaparral, a type of scrub that occurs in Mediterranean climates where there is dense, rocky soil. And chaparral is dominated by pyrophytes, the name botanists give to plants that need fireâ€”and smoke, as it has been recently foundâ€”to germinate seeds.  Massive, swift, but infrequent conflagrations are common wherever chaparral occurs, which includes parts of California, Oregon, Baja California, Chile, South Africa, and Australia. Chaparral grows in a way that creates an unbroken layer of fuel from the ground all the way up through the vegetation, making intense fires unavoidable. These are called crown fires because they burn through the tops of the plants. This differs from most forest fires, which primarily burn near the ground because of the separation between the forest floor and the tree canopy.  The western part of Los Angeles is uniquely vulnerable to disaster. As the urban theorist Mike Davis wrote in â€œThe Case for Letting Malibu Burn,â€ this is due to â€œthe uncanny alignment of its coastal canyons with the annual â€˜fire windsâ€™ from the north: the notorious Santa Anas.â€ The shape of the â€œSan Fernando Valley acts as a giant bellows, sometimes fanning the Santa Anas to hurricane velocity as they roar seaward through the narrow canyons and rugged defiles of the Santa Monica Mountains. Add a spark to the dense, dry vegetation on such an occasion and the hillsides will explode in uncontrollable wildfire.â€ Infrequent, uncontrollable wildfire is now understood as a key part of the life cycle of chaparral. As Richard W. Halsey of the California Chaparral Institute, and Alexandra D. Syphard of the  Conservation Biology Institute explained in â€œHigh-Severity Fire in Chaparral: Cognitive Dissonance in the Shrublands,â€ Although counterintuitive, chaparral plant communities are much more resilient to infrequent, high-intensity fires than they are to more frequent, lower-intensity fires (Keeley et al., 2008). If chaparral does not have sufficient time to replenish the soil seed bank, accumulate the biomass necessary to produce fires hot enough to successfully germinate fire-cued seeds, or allow resprouting species time to restore starch supplies in underground lignotubers, a cascading series of events begins that can significantly change or eliminate the plant community. If the fire return interval is less than 10â€”20 years, biodiversity is reduced and nonnative weeds and grasses typically invade, ultimately type-converting native shrubland to nonnative grassland (Brooks et al., 2004). So while it is true that Native Americans in Southern California were actively setting fires long before Europeans arrived, itâ€™s likely that they were doing it to eliminate shrubland and help grasses grow so that grassland animals could be hunted on that land. That is to say, Native Californians werenâ€™t maintaining a healthy chaparral. Fuel build-up is invariably blamed for the occurrence of large chaparral wildfires. One commenter on the Marginal Revolution blog, for example, relayed what he was seeing on local news broadcasts a week ago,  A man who had lost his house made the point that it was his neighbor just below him that created the conditions for both houses and others to burn: the neighbor allowed brush around the neighborâ€™s house to grow thick and high, creating a fire bomb once the embers hit the brush. The brush didnâ€™t need a controlled burn, it needed a weed whacker or other device to keep it cut. But researchers are now balking at that idea. Contrary to popular belief, fire suppression like preventing or fighting fires hasnâ€™t disrupted the natural fire patterns in these areas. In fact, fire suppression has actually been helpful because itâ€™s protected the chaparral from burning too frequently, which would be harmful to the ecosystem, which prefers a cycle of 30 years or more. Without fire suppression efforts, human-caused fires would have resulted in the vegetation burning far more often than it did historically. Because fire suppression has helped maintain a more natural fire pattern in the long term, the chaparral was set up to go up in a blaze when the conditions were right. Abnormally strong rains in 2023 drove plant growth, which then became a tinderbox this year with a lack of rain. Unusually strong winds gave it the air to quickly expand. Mondayâ€™s The Morning Dispatch did an excellent job of explaining how all of this came together. While conventional wisdom suggests we need more frequent, controlled burns to prevent disasters, the science of chaparral tells a different story. These ecosystems donâ€™t just tolerate massive conflagrations, they require them for their very survival. The devastation we witnessed wasnâ€™t an aberration or a result of poor fire management. It was the chaparral operating exactly as nature intended, on a timeline measured not in years, but in decades. Understanding this reality is essential for anyone choosing to live in these beautiful but periodically explosive landscapes. All of this makes controlled burns ill-suited for Southern Californiaâ€™s chaparral. But that isnâ€™t to say that controlled burns arenâ€™t needed elsewhere in other ecosystems in California. And controlled burns are stymied by delays. Like any other government action, controlled burns are subjected to the National Environmental Policy Act (NEPA) and CEQA, Californiaâ€™s version of the law.  Environmental groups arenâ€™t fans of controlled burns or thinning efforts and have taken both the state and federal governments to court over them. Activists delayed a 9,000-acre forest thinning project in California for 10 years, citing potential threats to spotted owl habitat. However, the unthinned forest ultimately burned in a wildfire, destroying the very owl habitat they had sought to protect. The Sacramento Bee reported that one womanâ€™s lawsuit over another California forest-thinning project forced the government to process 19,193 pages of paperwork. And to top it off, in 2007, the Sierra Club successfully sued the Forest Service to prevent it from exempting small, controlled burns. In California, it takes months to get approval for a controlled burn, while in Florida it takes mere minutes.  Still, as Kevin Drum wrote in â€œWhy donâ€™t we do more prescribed burning? An explainer.â€ regulations are part of the problem, but they arenâ€™t the only thing stopping controlled burns: The biggest impediments are public opposition, rising insurance costs, resource constraints, and the risk-averse views of forest managers, many of whom are still wary of prescribed burns. This is partly for technical reasons and partly out of fear. Only one out of a thousand prescribed burns gets out of control, but thatâ€™s enough. If officials conduct a prescribed burn that gets out of control, they face serious consequences and liability. However, when devastating wildfires destroy communities and landscapes due to long-term neglect of forest management, no one is held accountable for these preventable disasters. The cumulative result is that fewer acres are burned than what experts would want. Insurers will face pressure as people inevitably rebuild, and something will break. Californiaâ€™s insurance system requires a public hearing and an affirmative approval by elected insurance commissioners to increase rates. But Proposition 103, which passed in 1988 to reform Californiaâ€™s insurance regulations, is unique in that it allows nonprofit organizations to collect fees when they challenge proposed insurance rate hikes. Californiaâ€™s system is generally viewed as unmatched in terms of the extent to which consumers and advocacy groups can formally intervene in insurance rate filings. As a result, insurance companies have stopped issuing new policies that cover fire. This, in turn, has put pressure on the stateâ€™s insurer of last resort, FAIR. But even FAIR is buckling under all the payouts. For years, the Pacific Palisades has been cited as one of the largest areas of exposure for FAIR at nearly $6 billion. As it last reported, however, FAIR had about $700 million in cash and even though it caps payments at $3 million, it likely will need a bailout. Still, I think it is telling that Newsomâ€™s immediate policy response was an executive order that suspended CEQA review and California Coastal Act permitting for properties being reconstructed. His executive order didnâ€™t just streamline reconstruction. It laid bare a paradox at the heart of the stateâ€™s regulatory framework. By suspending both CEQA review and Coastal Act permitting for rebuilding, while directing agencies to identify other regulations that could be safely relaxed, Newsom tacitly acknowledged what many have long suspected. If these rules can be safely suspended during our most challenging moments when careful oversight should matter most, perhaps itâ€™s time to reevaluate their necessity during calmer times as well. My former colleague Tahra Jirari made a similar point recently, writing that, â€œRather than temporarily waiving them just for rebuilding, we should seize this moment to create a permanently more functional system.â€ As a Los Angeleno, sheâ€™s been in the middle of this disaster, and as an economist, sheâ€™s been thinking about how to rebuild better. As she told me, even with the suspension of CEQA and California Coastal Commission rules, â€œcurrent policies are quite restrictive and will make it difficult to rebuild. All of this has made us more vulnerable than we should be because we need to build densely away from fire-prone zones.â€  Many L.A. residents love being near nature and the chaparral, but they donâ€™t understand the risk. Every so often, the region will burn in a hot blaze. This isnâ€™t a failure of policy or prevention. Itâ€™s the fundamental nature of this ecosystem. Living in the chaparral means accepting its cycles: long periods of beautiful, rugged wilderness punctuated by devastating fires that canâ€™t be tamed. The question isnâ€™t how to prevent these fires entirely, but how to build and live with the knowledge that they will inevitably return. Until next week, ðŸš€ Will",
         "TheDispatch",
         "lean right"
        ],
        [
         "2",
         "Los Angeles’ Destruction Was Fueled by Bad Policy—and Bad Incentives",
         "https://thedispatch.com/newsletter/capitolism/los-angeles-destruction-was-fueled-by-bad-policy-and-bad-incentives/",
         "As fire still rages in the Los Angeles area, Iâ€™ve been torn about whether to write about it. Beyond the very real tragedies and my general rule against public dunking, a lot of whatâ€™s going on out there has nothing to do with policy. As our friends at The Morning Dispatch explained, for example, national experts and folks on the ground seem to agree that the unfortunate and freakish confluence of several meteorological phenomenaâ€”especially the hurricane-force winds and recent lack of rainâ€”made much of the damage in and around L.A. unavoidable regardless of the policies in place or the people in charge. And much of the knee-jerk, partisan hysteria surrounding the fires has proven to be premature, half-baked, or just plain wrongâ€”not to mention distasteful. On the other hand, there do appear to be several policies that, while they didnâ€™t cause the fires, probably made things in L.A. today worse than theyâ€™d otherwise beâ€”perhaps by a significant margin. They fit squarely within the stuff we talk about all the time here at Capitolism and provide lessons about not only the L.A. fires but also how (ostensibly) good policy intentions can generate really bad outcomes, thanks in large part to some equally bad incentives for all the people involved. The place to start is Californiaâ€™s onerous regulation of homeowners insurance, which has probably encouraged many Angelenos to live in more fire-prone areas and has kept many of them underinsured or without insurance entirely. As economist Brian Albrecht detailed last week, citing a deep dive paper from his colleagues at the International Center for Law and Economics (ICLE), Californiaâ€™s Proposition 103 forces private insurers to price their products not just below hypothetical market rates but well below their costâ€”creating â€œthe biggest gap between rates and risk in the nation.â€ Albrecht adds that the system is also highly inflexible and insanely slow: Californiaâ€™s speed of rate approvals ranked second-to-last among the 50 states (and D.C.) over the last five years, with an average of 236 days for homeowners insurance. And itâ€™s been getting worse:",
         "TheDispatch",
         "lean right"
        ],
        [
         "3",
         "Acquiring Greenland Is a Good Idea. Threatening Force to Do So Is Not.",
         "https://thedispatch.com/article/acquiring-greenland-is-a-good-idea-threatening-force-to-do-so-is-not/",
         "Whether it was Will Rogers or Tony Soprano, the old suggestion to â€œbuy land, Godâ€™s not making any more of itâ€ is good real estate advice, but itâ€™s hardly an iron law. First of all, God does make more land from time to time. And so do humans. This raises a second famous piece of advice, also of unclear authorship. When it comes to real estate only three things matter: location, location, and location. And that brings us to Greenland. Donald Trump wants to acquire it. Nay, he says we need to acquire it. The last time he was president, he floated the idea and was roundly mocked for it. But not by me, and I am hardly averse to mocking Trump when the moment calls for it. For myriad reasons, it would be in our interest for the United States to annex, lease, absorb, or otherwise acquire the giant island. The most important of these reasons is, of course, location. Thatâ€™s why Iâ€™ve long thought acquiring Greenlandâ€”peacefully!â€”was a good idea. (Indeed, last year, I despaired of the â€œGreenland effectâ€â€”the phenomenon whereby Trumpâ€™s embrace of a good idea makes it less popular.). But my opinion doesnâ€™t count for much. James Stavridis, the former supreme allied commander of NATO, and hardly a MAGA toady, agrees. He writes that the Mexico-sized island â€œis a vital element of the Greenland-Iceland-UK â€˜gapâ€™ that guards the northern approaches to the Atlantic Ocean from Russian naval forces.â€ Itâ€™s also believed Greenland has huge deposits of crucial rare-earth minerals, essential to all manner of high-tech industries, industries China is trying to control or dominate, in part by establishing a near monopoly on such resources. Long before anyone appreciated the importance of this stuff, the Truman administration recognized the value of Greenland and tried to persuade the Danes â€”who administer the quasi-independent nationâ€”to part with it. The Danes politely said no. But the issue was mostly resolved a few years later when Denmark became a founding member of the NATO alliance. They agreed to work with us on using it to bolster Western defenses. Trump claims thatâ€™s not good enough. In a recent press conference, Trump refused to rule out the use of force to take Greenland (and the Panama Canal). â€œFor purposes of National Security and Freedom throughout the World, the United States of America feels that the ownership and control of Greenland is an absolute necessity,â€ Trump insists. The best defenseâ€”really the only defenseâ€”of Trumpâ€™s rhetoric is that itâ€™s a negotiating tactic: Start with an outlandish ask, and then find a compromise that would have been impossible without it. Again, the problem with this classic example of turd-polishing Trumpâ€™s rhetoricâ€”â€œtake him seriously, not literallyâ€ as they sayâ€”is that Denmark and Greenland are already generously cooperating with the U.S. on national security issues. We literally have a vital military installation in Greenland already. So, what could that compromise be? Some special leasing deal for mining? Okay, maybe. But, surely, thereâ€™s a better way to pursue that with a longtime ally than threatening military force? Acquiring Greenland is a serious idea, but pursuing it in an unserious way is worse than not pursuing it at all. If Trump went full Putin and invaded Greenlandâ€”or even seriously threatened to by deploying ships to intimidate Denmarkâ€”it would likely spell the end of NATO. The supposed rationale for controlling Greenland is to deter Russia and protect the â€œfreedomâ€ of the world. But Putin would see the implosion of NATO as a small price for the transformation of Greenland into an arctic Puerto Rico. (By the way, Trump floated the idea of trading Puerto Rico for Greenland.)  Even more annoying: Trump and his sycophants have spent the better part of the last decade insisting that the GOP was kidnapped by â€œneoconâ€ warmongers and imperialists hell-bent on â€œprovokingâ€ â€œforeign warsâ€ for abstract goals like â€œfreedom.â€ Say what you will about the calumnies and blood libel against â€œneocons,â€ none of them floated the idea of provoking a foreign war with democratic allies. But when Trump threatens exactly that, well, thatâ€™s just so cool apparently. The people who insist that Trumpian nationalism is a Very Serious Idea invariably find themselves having to bend their Very Serious Arguments to the fact that Trump doesnâ€™t care about arguments and ideas. Heâ€™s just a real estate guy who likes putting his name on stuff.",
         "TheDispatch",
         "lean right"
        ],
        [
         "4",
         "Assessing Trump’s Expansionist Designs",
         "https://thedispatch.com/newsletter/morning/assessing-trumps-expansionist-designs/",
         "Happy Friday! If anyone was wondering, Belgiumâ€™s food agency has officially warned against eating your Christmas tree. But donâ€™t change your dinner plans just yetâ€”Sweden says itâ€™s fine.  Weâ€™ll let our brave readers tell us which country is right.  Less than two weeks until President-elect Donald Trumpâ€™s inauguration, journalists and commentators got their first fully fledged goose chase of the new administration during a press conference at Mar-a-Lago on Tuesday. ",
         "TheDispatch",
         "lean right"
        ]
       ],
       "shape": {
        "columns": 5,
        "rows": 5
       }
      },
      "text/html": [
       "<div>\n",
       "<style scoped>\n",
       "    .dataframe tbody tr th:only-of-type {\n",
       "        vertical-align: middle;\n",
       "    }\n",
       "\n",
       "    .dataframe tbody tr th {\n",
       "        vertical-align: top;\n",
       "    }\n",
       "\n",
       "    .dataframe thead th {\n",
       "        text-align: right;\n",
       "    }\n",
       "</style>\n",
       "<table border=\"1\" class=\"dataframe\">\n",
       "  <thead>\n",
       "    <tr style=\"text-align: right;\">\n",
       "      <th></th>\n",
       "      <th>Title</th>\n",
       "      <th>Link</th>\n",
       "      <th>Text</th>\n",
       "      <th>Source</th>\n",
       "      <th>Bias</th>\n",
       "    </tr>\n",
       "  </thead>\n",
       "  <tbody>\n",
       "    <tr>\n",
       "      <th>0</th>\n",
       "      <td>John Bolton’s Advice for the ‘Continuing Turmo...</td>\n",
       "      <td>https://thedispatch.com/article/john-boltons-a...</td>\n",
       "      <td>With just days until his inauguration, it woul...</td>\n",
       "      <td>TheDispatch</td>\n",
       "      <td>lean right</td>\n",
       "    </tr>\n",
       "    <tr>\n",
       "      <th>1</th>\n",
       "      <td>Why Shrubland Makes Southern California’s Wild...</td>\n",
       "      <td>https://thedispatch.com/newsletter/techne/why-...</td>\n",
       "      <td>Welcome back to Techne! In Star Trek, writers ...</td>\n",
       "      <td>TheDispatch</td>\n",
       "      <td>lean right</td>\n",
       "    </tr>\n",
       "    <tr>\n",
       "      <th>2</th>\n",
       "      <td>Los Angeles’ Destruction Was Fueled by Bad Pol...</td>\n",
       "      <td>https://thedispatch.com/newsletter/capitolism/...</td>\n",
       "      <td>As fire still rages in the Los Angeles area, I...</td>\n",
       "      <td>TheDispatch</td>\n",
       "      <td>lean right</td>\n",
       "    </tr>\n",
       "    <tr>\n",
       "      <th>3</th>\n",
       "      <td>Acquiring Greenland Is a Good Idea. Threatenin...</td>\n",
       "      <td>https://thedispatch.com/article/acquiring-gree...</td>\n",
       "      <td>Whether it was Will Rogers or Tony Soprano, th...</td>\n",
       "      <td>TheDispatch</td>\n",
       "      <td>lean right</td>\n",
       "    </tr>\n",
       "    <tr>\n",
       "      <th>4</th>\n",
       "      <td>Assessing Trump’s Expansionist Designs</td>\n",
       "      <td>https://thedispatch.com/newsletter/morning/ass...</td>\n",
       "      <td>Happy Friday! If anyone was wondering, Belgium...</td>\n",
       "      <td>TheDispatch</td>\n",
       "      <td>lean right</td>\n",
       "    </tr>\n",
       "  </tbody>\n",
       "</table>\n",
       "</div>"
      ],
      "text/plain": [
       "                                               Title  \\\n",
       "0  John Bolton’s Advice for the ‘Continuing Turmo...   \n",
       "1  Why Shrubland Makes Southern California’s Wild...   \n",
       "2  Los Angeles’ Destruction Was Fueled by Bad Pol...   \n",
       "3  Acquiring Greenland Is a Good Idea. Threatenin...   \n",
       "4             Assessing Trump’s Expansionist Designs   \n",
       "\n",
       "                                                Link  \\\n",
       "0  https://thedispatch.com/article/john-boltons-a...   \n",
       "1  https://thedispatch.com/newsletter/techne/why-...   \n",
       "2  https://thedispatch.com/newsletter/capitolism/...   \n",
       "3  https://thedispatch.com/article/acquiring-gree...   \n",
       "4  https://thedispatch.com/newsletter/morning/ass...   \n",
       "\n",
       "                                                Text       Source        Bias  \n",
       "0  With just days until his inauguration, it woul...  TheDispatch  lean right  \n",
       "1  Welcome back to Techne! In Star Trek, writers ...  TheDispatch  lean right  \n",
       "2  As fire still rages in the Los Angeles area, I...  TheDispatch  lean right  \n",
       "3  Whether it was Will Rogers or Tony Soprano, th...  TheDispatch  lean right  \n",
       "4  Happy Friday! If anyone was wondering, Belgium...  TheDispatch  lean right  "
      ]
     },
     "execution_count": 33,
     "metadata": {},
     "output_type": "execute_result"
    }
   ],
   "source": [
    "df.head()"
   ]
  },
  {
   "cell_type": "code",
   "execution_count": 34,
   "id": "413555a6",
   "metadata": {},
   "outputs": [
    {
     "data": {
      "text/plain": [
       "(3458, 5)"
      ]
     },
     "execution_count": 34,
     "metadata": {},
     "output_type": "execute_result"
    }
   ],
   "source": [
    "df.shape"
   ]
  },
  {
   "cell_type": "code",
   "execution_count": null,
   "id": "527ec6ce",
   "metadata": {},
   "outputs": [],
   "source": []
  }
 ],
 "metadata": {
  "kernelspec": {
   "display_name": "hsg-spring2025",
   "language": "python",
   "name": "python3"
  },
  "language_info": {
   "codemirror_mode": {
    "name": "ipython",
    "version": 3
   },
   "file_extension": ".py",
   "mimetype": "text/x-python",
   "name": "python",
   "nbconvert_exporter": "python",
   "pygments_lexer": "ipython3",
   "version": "3.12.6"
  }
 },
 "nbformat": 4,
 "nbformat_minor": 5
}
